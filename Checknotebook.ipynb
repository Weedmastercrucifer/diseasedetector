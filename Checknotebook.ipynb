{
  "nbformat": 4,
  "nbformat_minor": 5,
  "metadata": {
    "colab": {
      "name": "Checknotebook.ipynb",
      "provenance": [],
      "collapsed_sections": [],
      "include_colab_link": true
    },
    "kernelspec": {
      "display_name": "Python 3",
      "language": "python",
      "name": "python3"
    },
    "language_info": {
      "codemirror_mode": {
        "name": "ipython",
        "version": 3
      },
      "file_extension": ".py",
      "mimetype": "text/x-python",
      "name": "python",
      "nbconvert_exporter": "python",
      "pygments_lexer": "ipython3",
      "version": "3.8.8"
    },
    "accelerator": "GPU"
  },
  "cells": [
    {
      "cell_type": "markdown",
      "metadata": {
        "id": "view-in-github",
        "colab_type": "text"
      },
      "source": [
        "<a href=\"https://colab.research.google.com/github/Weedmastercrucifer/diseasedetector/blob/main/Checknotebook.ipynb\" target=\"_parent\"><img src=\"https://colab.research.google.com/assets/colab-badge.svg\" alt=\"Open In Colab\"/></a>"
      ]
    },
    {
      "cell_type": "code",
      "metadata": {
        "colab": {
          "base_uri": "https://localhost:8080/"
        },
        "id": "systematic-delta",
        "outputId": "0ebc0f13-cfb2-447d-824d-0a2922b687a8"
      },
      "source": [
        "import tensorflow as tf \n",
        "import numpy as np\n",
        "print(tf.__version__)"
      ],
      "id": "systematic-delta",
      "execution_count": 1,
      "outputs": [
        {
          "output_type": "stream",
          "text": [
            "2.4.1\n"
          ],
          "name": "stdout"
        }
      ]
    },
    {
      "cell_type": "code",
      "metadata": {
        "colab": {
          "base_uri": "https://localhost:8080/"
        },
        "id": "VEoVnnkPZoKN",
        "outputId": "b4109261-67fb-4546-ce5c-21c1d50777af"
      },
      "source": [
        "from google.colab import drive\n",
        "drive.mount('/gdrive')"
      ],
      "id": "VEoVnnkPZoKN",
      "execution_count": 2,
      "outputs": [
        {
          "output_type": "stream",
          "text": [
            "Mounted at /gdrive\n"
          ],
          "name": "stdout"
        }
      ]
    },
    {
      "cell_type": "markdown",
      "metadata": {
        "id": "HQRoE1uNbrS4"
      },
      "source": [
        "# New Section"
      ],
      "id": "HQRoE1uNbrS4"
    },
    {
      "cell_type": "code",
      "metadata": {
        "colab": {
          "base_uri": "https://localhost:8080/"
        },
        "id": "drawn-extreme",
        "outputId": "5c9c4569-968a-404d-daa6-33eee5838dd6"
      },
      "source": [
        "#trdata=tf.keras.preprocessing.image.ImageGenerator() \n",
        "batch=20\n",
        "traindata=tf.keras.preprocessing.image_dataset_from_directory(directory=\"/gdrive/MyDrive/trainset\",image_size=(224,224),batch_size=batch,label_mode='binary',shuffle=True)\n",
        "#tsdata=tf.keras.preprocessing.image.ImageGenerator()\n",
        "testdata=tf.keras.preprocessing.image_dataset_from_directory(directory=\"/gdrive/MyDrive/testset\",image_size=(224,224),batch_size=batch,label_mode='binary',shuffle=True)\n",
        "#testing=tf.keras.preprocessing.image_dataset_from_directory(directory='/gdrive/MyDrive/smalltrain',image_size=(224,224))"
      ],
      "id": "drawn-extreme",
      "execution_count": 3,
      "outputs": [
        {
          "output_type": "stream",
          "text": [
            "Found 1520 files belonging to 2 classes.\n",
            "Found 304 files belonging to 2 classes.\n"
          ],
          "name": "stdout"
        }
      ]
    },
    {
      "cell_type": "code",
      "metadata": {
        "colab": {
          "base_uri": "https://localhost:8080/"
        },
        "id": "L-QtwdQLI1fW",
        "outputId": "099ad3b4-2da4-4768-8278-4c44574f64af"
      },
      "source": [
        "print(len(traindata))\n",
        "print(len(testdata))"
      ],
      "id": "L-QtwdQLI1fW",
      "execution_count": 4,
      "outputs": [
        {
          "output_type": "stream",
          "text": [
            "76\n",
            "16\n"
          ],
          "name": "stdout"
        }
      ]
    },
    {
      "cell_type": "code",
      "metadata": {
        "id": "chief-numbers"
      },
      "source": [
        "model=tf.keras.Sequential()\n",
        "model.add(tf.keras.layers.Conv2D(input_shape=(224,224,3),filters=64,kernel_size=(3,3),padding=\"same\", activation=\"relu\"))\n",
        "model.add(tf.keras.layers.Conv2D(filters=64,kernel_size=(3,3),padding=\"same\", activation=\"relu\"))\n",
        "model.add(tf.keras.layers.MaxPool2D(pool_size=(2,2),strides=(2,2)))\n",
        "model.add(tf.keras.layers.Conv2D(filters=128, kernel_size=(3,3), padding=\"same\", activation=\"relu\"))\n",
        "model.add(tf.keras.layers.Conv2D(filters=128, kernel_size=(3,3), padding=\"same\", activation=\"relu\"))\n",
        "model.add(tf.keras.layers.MaxPool2D(pool_size=(2,2),strides=(2,2)))\n",
        "model.add(tf.keras.layers.Conv2D(filters=256, kernel_size=(3,3), padding=\"same\", activation=\"relu\"))\n",
        "model.add(tf.keras.layers.Conv2D(filters=256, kernel_size=(3,3), padding=\"same\", activation=\"relu\"))\n",
        "model.add(tf.keras.layers.Conv2D(filters=256, kernel_size=(3,3), padding=\"same\", activation=\"relu\"))\n",
        "model.add(tf.keras.layers.MaxPool2D(pool_size=(2,2),strides=(2,2)))\n",
        "model.add(tf.keras.layers.Conv2D(filters=512, kernel_size=(3,3), padding=\"same\", activation=\"relu\"))\n",
        "model.add(tf.keras.layers.Conv2D(filters=512, kernel_size=(3,3), padding=\"same\", activation=\"relu\"))\n",
        "model.add(tf.keras.layers.Conv2D(filters=512, kernel_size=(3,3), padding=\"same\", activation=\"relu\"))\n",
        "model.add(tf.keras.layers.MaxPool2D(pool_size=(2,2),strides=(2,2)))\n",
        "model.add(tf.keras.layers.Conv2D(filters=512, kernel_size=(3,3), padding=\"same\", activation=\"relu\"))\n",
        "model.add(tf.keras.layers.Conv2D(filters=512, kernel_size=(3,3), padding=\"same\", activation=\"relu\"))\n",
        "model.add(tf.keras.layers.Conv2D(filters=512, kernel_size=(3,3), padding=\"same\", activation=\"relu\"))\n",
        "model.add(tf.keras.layers.MaxPool2D(pool_size=(2,2),strides=(2,2))) \n"
      ],
      "id": "chief-numbers",
      "execution_count": 5,
      "outputs": []
    },
    {
      "cell_type": "code",
      "metadata": {
        "id": "usual-plastic"
      },
      "source": [
        "model.add(tf.keras.layers.Flatten())\n",
        "model.add(tf.keras.layers.Dense(units=4096,activation=\"relu\")) \n",
        "model.add(tf.keras.layers.Dropout(0.2))\n",
        "model.add(tf.keras.layers.Dense(units=4096,activation=\"relu\")) \n",
        "model.add(tf.keras.layers.Dropout(0.1))\n",
        "model.add(tf.keras.layers.Dense(units=1, activation=\"sigmoid\"))"
      ],
      "id": "usual-plastic",
      "execution_count": 6,
      "outputs": []
    },
    {
      "cell_type": "code",
      "metadata": {
        "id": "possible-couple"
      },
      "source": [
        "opt=tf.keras.optimizers.Adam(learning_rate=0.001)\n",
        "model.compile(optimizer=opt,loss=tf.keras.losses.binary_crossentropy,metrics=['accuracy'])"
      ],
      "id": "possible-couple",
      "execution_count": 7,
      "outputs": []
    },
    {
      "cell_type": "code",
      "metadata": {
        "colab": {
          "base_uri": "https://localhost:8080/"
        },
        "id": "illegal-twins",
        "outputId": "a53a3ae9-5f1f-449b-ff98-d0e320e9f5a4"
      },
      "source": [
        "model.summary()\n"
      ],
      "id": "illegal-twins",
      "execution_count": 8,
      "outputs": [
        {
          "output_type": "stream",
          "text": [
            "Model: \"sequential\"\n",
            "_________________________________________________________________\n",
            "Layer (type)                 Output Shape              Param #   \n",
            "=================================================================\n",
            "conv2d (Conv2D)              (None, 224, 224, 64)      1792      \n",
            "_________________________________________________________________\n",
            "conv2d_1 (Conv2D)            (None, 224, 224, 64)      36928     \n",
            "_________________________________________________________________\n",
            "max_pooling2d (MaxPooling2D) (None, 112, 112, 64)      0         \n",
            "_________________________________________________________________\n",
            "conv2d_2 (Conv2D)            (None, 112, 112, 128)     73856     \n",
            "_________________________________________________________________\n",
            "conv2d_3 (Conv2D)            (None, 112, 112, 128)     147584    \n",
            "_________________________________________________________________\n",
            "max_pooling2d_1 (MaxPooling2 (None, 56, 56, 128)       0         \n",
            "_________________________________________________________________\n",
            "conv2d_4 (Conv2D)            (None, 56, 56, 256)       295168    \n",
            "_________________________________________________________________\n",
            "conv2d_5 (Conv2D)            (None, 56, 56, 256)       590080    \n",
            "_________________________________________________________________\n",
            "conv2d_6 (Conv2D)            (None, 56, 56, 256)       590080    \n",
            "_________________________________________________________________\n",
            "max_pooling2d_2 (MaxPooling2 (None, 28, 28, 256)       0         \n",
            "_________________________________________________________________\n",
            "conv2d_7 (Conv2D)            (None, 28, 28, 512)       1180160   \n",
            "_________________________________________________________________\n",
            "conv2d_8 (Conv2D)            (None, 28, 28, 512)       2359808   \n",
            "_________________________________________________________________\n",
            "conv2d_9 (Conv2D)            (None, 28, 28, 512)       2359808   \n",
            "_________________________________________________________________\n",
            "max_pooling2d_3 (MaxPooling2 (None, 14, 14, 512)       0         \n",
            "_________________________________________________________________\n",
            "conv2d_10 (Conv2D)           (None, 14, 14, 512)       2359808   \n",
            "_________________________________________________________________\n",
            "conv2d_11 (Conv2D)           (None, 14, 14, 512)       2359808   \n",
            "_________________________________________________________________\n",
            "conv2d_12 (Conv2D)           (None, 14, 14, 512)       2359808   \n",
            "_________________________________________________________________\n",
            "max_pooling2d_4 (MaxPooling2 (None, 7, 7, 512)         0         \n",
            "_________________________________________________________________\n",
            "flatten (Flatten)            (None, 25088)             0         \n",
            "_________________________________________________________________\n",
            "dense (Dense)                (None, 4096)              102764544 \n",
            "_________________________________________________________________\n",
            "dropout (Dropout)            (None, 4096)              0         \n",
            "_________________________________________________________________\n",
            "dense_1 (Dense)              (None, 4096)              16781312  \n",
            "_________________________________________________________________\n",
            "dropout_1 (Dropout)          (None, 4096)              0         \n",
            "_________________________________________________________________\n",
            "dense_2 (Dense)              (None, 1)                 4097      \n",
            "=================================================================\n",
            "Total params: 134,264,641\n",
            "Trainable params: 134,264,641\n",
            "Non-trainable params: 0\n",
            "_________________________________________________________________\n"
          ],
          "name": "stdout"
        }
      ]
    },
    {
      "cell_type": "code",
      "metadata": {
        "colab": {
          "base_uri": "https://localhost:8080/"
        },
        "id": "prepared-number",
        "outputId": "ae6bb84c-83c4-4440-c47a-85eea734d093"
      },
      "source": [
        "\n",
        "\n",
        "\n",
        "checkpoint = tf.keras.callbacks.ModelCheckpoint(\"vgg16_1.h5\",monitor='val_accuracy', verbose=1, save_best_only=True, save_weights_only=False, mode='auto', save_freq='epoch')\n",
        "\n",
        "hist = model.fit(traindata,steps_per_epoch=(1520//batch), validation_data= testdata, validation_steps=(304//batch),epochs=100,callbacks=[checkpoint])"
      ],
      "id": "prepared-number",
      "execution_count": 9,
      "outputs": [
        {
          "output_type": "stream",
          "text": [
            "Epoch 1/100\n",
            "76/76 [==============================] - 544s 6s/step - loss: 286.5822 - accuracy: 0.5311 - val_loss: 0.7184 - val_accuracy: 0.5333\n",
            "\n",
            "Epoch 00001: val_accuracy improved from -inf to 0.53333, saving model to vgg16_1.h5\n",
            "Epoch 2/100\n",
            "76/76 [==============================] - 33s 427ms/step - loss: 0.7275 - accuracy: 0.5253 - val_loss: 0.6939 - val_accuracy: 0.4700\n",
            "\n",
            "Epoch 00002: val_accuracy did not improve from 0.53333\n",
            "Epoch 3/100\n",
            "76/76 [==============================] - 32s 413ms/step - loss: 0.7467 - accuracy: 0.5411 - val_loss: 1.0207 - val_accuracy: 0.4667\n",
            "\n",
            "Epoch 00003: val_accuracy did not improve from 0.53333\n",
            "Epoch 4/100\n",
            "76/76 [==============================] - 32s 413ms/step - loss: 1.1438 - accuracy: 0.5367 - val_loss: 0.4817 - val_accuracy: 0.7833\n",
            "\n",
            "Epoch 00004: val_accuracy improved from 0.53333 to 0.78333, saving model to vgg16_1.h5\n",
            "Epoch 5/100\n",
            "76/76 [==============================] - 32s 417ms/step - loss: 0.7775 - accuracy: 0.5836 - val_loss: 0.4433 - val_accuracy: 0.9233\n",
            "\n",
            "Epoch 00005: val_accuracy improved from 0.78333 to 0.92333, saving model to vgg16_1.h5\n",
            "Epoch 6/100\n",
            "76/76 [==============================] - 32s 414ms/step - loss: 1.1048 - accuracy: 0.5587 - val_loss: 0.6616 - val_accuracy: 0.5300\n",
            "\n",
            "Epoch 00006: val_accuracy did not improve from 0.92333\n",
            "Epoch 7/100\n",
            "76/76 [==============================] - 32s 415ms/step - loss: 0.7480 - accuracy: 0.5039 - val_loss: 0.6925 - val_accuracy: 0.5367\n",
            "\n",
            "Epoch 00007: val_accuracy did not improve from 0.92333\n",
            "Epoch 8/100\n",
            "76/76 [==============================] - 32s 414ms/step - loss: 0.6629 - accuracy: 0.6041 - val_loss: 0.2323 - val_accuracy: 0.8900\n",
            "\n",
            "Epoch 00008: val_accuracy did not improve from 0.92333\n",
            "Epoch 9/100\n",
            "76/76 [==============================] - 32s 412ms/step - loss: 0.3271 - accuracy: 0.9009 - val_loss: 0.2628 - val_accuracy: 0.9267\n",
            "\n",
            "Epoch 00009: val_accuracy improved from 0.92333 to 0.92667, saving model to vgg16_1.h5\n",
            "Epoch 10/100\n",
            "76/76 [==============================] - 32s 413ms/step - loss: 0.1527 - accuracy: 0.9469 - val_loss: 0.1992 - val_accuracy: 0.9400\n",
            "\n",
            "Epoch 00010: val_accuracy improved from 0.92667 to 0.94000, saving model to vgg16_1.h5\n",
            "Epoch 11/100\n",
            "76/76 [==============================] - 32s 414ms/step - loss: 0.1057 - accuracy: 0.9729 - val_loss: 0.0612 - val_accuracy: 0.9700\n",
            "\n",
            "Epoch 00011: val_accuracy improved from 0.94000 to 0.97000, saving model to vgg16_1.h5\n",
            "Epoch 12/100\n",
            "76/76 [==============================] - 32s 414ms/step - loss: 0.1345 - accuracy: 0.9663 - val_loss: 0.0974 - val_accuracy: 0.9700\n",
            "\n",
            "Epoch 00012: val_accuracy did not improve from 0.97000\n",
            "Epoch 13/100\n",
            "76/76 [==============================] - 32s 414ms/step - loss: 0.1058 - accuracy: 0.9774 - val_loss: 0.0558 - val_accuracy: 0.9733\n",
            "\n",
            "Epoch 00013: val_accuracy improved from 0.97000 to 0.97333, saving model to vgg16_1.h5\n",
            "Epoch 14/100\n",
            "76/76 [==============================] - 36s 464ms/step - loss: 0.1130 - accuracy: 0.9693 - val_loss: 0.2973 - val_accuracy: 0.8967\n",
            "\n",
            "Epoch 00014: val_accuracy did not improve from 0.97333\n",
            "Epoch 15/100\n",
            "76/76 [==============================] - 32s 414ms/step - loss: 0.1395 - accuracy: 0.9677 - val_loss: 0.0538 - val_accuracy: 0.9733\n",
            "\n",
            "Epoch 00015: val_accuracy did not improve from 0.97333\n",
            "Epoch 16/100\n",
            "76/76 [==============================] - 32s 409ms/step - loss: 0.0882 - accuracy: 0.9686 - val_loss: 0.0520 - val_accuracy: 0.9733\n",
            "\n",
            "Epoch 00016: val_accuracy did not improve from 0.97333\n",
            "Epoch 17/100\n",
            "76/76 [==============================] - 32s 413ms/step - loss: 0.1051 - accuracy: 0.9689 - val_loss: 0.0356 - val_accuracy: 0.9800\n",
            "\n",
            "Epoch 00017: val_accuracy improved from 0.97333 to 0.98000, saving model to vgg16_1.h5\n",
            "Epoch 18/100\n",
            "76/76 [==============================] - 32s 415ms/step - loss: 0.1517 - accuracy: 0.9563 - val_loss: 0.1777 - val_accuracy: 0.9600\n",
            "\n",
            "Epoch 00018: val_accuracy did not improve from 0.98000\n",
            "Epoch 19/100\n",
            "76/76 [==============================] - 32s 411ms/step - loss: 0.1137 - accuracy: 0.9640 - val_loss: 0.0666 - val_accuracy: 0.9767\n",
            "\n",
            "Epoch 00019: val_accuracy did not improve from 0.98000\n",
            "Epoch 20/100\n",
            "76/76 [==============================] - 32s 413ms/step - loss: 0.6851 - accuracy: 0.8551 - val_loss: 0.2736 - val_accuracy: 0.9000\n",
            "\n",
            "Epoch 00020: val_accuracy did not improve from 0.98000\n",
            "Epoch 21/100\n",
            "76/76 [==============================] - 32s 410ms/step - loss: 0.4197 - accuracy: 0.8923 - val_loss: 0.1448 - val_accuracy: 0.9300\n",
            "\n",
            "Epoch 00021: val_accuracy did not improve from 0.98000\n",
            "Epoch 22/100\n",
            "76/76 [==============================] - 32s 409ms/step - loss: 0.1874 - accuracy: 0.9373 - val_loss: 0.1363 - val_accuracy: 0.9533\n",
            "\n",
            "Epoch 00022: val_accuracy did not improve from 0.98000\n",
            "Epoch 23/100\n",
            "76/76 [==============================] - 32s 409ms/step - loss: 0.1682 - accuracy: 0.9317 - val_loss: 0.1686 - val_accuracy: 0.9033\n",
            "\n",
            "Epoch 00023: val_accuracy did not improve from 0.98000\n",
            "Epoch 24/100\n",
            "76/76 [==============================] - 32s 409ms/step - loss: 0.1272 - accuracy: 0.9479 - val_loss: 0.1055 - val_accuracy: 0.9533\n",
            "\n",
            "Epoch 00024: val_accuracy did not improve from 0.98000\n",
            "Epoch 25/100\n",
            "76/76 [==============================] - 32s 409ms/step - loss: 0.1208 - accuracy: 0.9508 - val_loss: 0.1529 - val_accuracy: 0.9300\n",
            "\n",
            "Epoch 00025: val_accuracy did not improve from 0.98000\n",
            "Epoch 26/100\n",
            "76/76 [==============================] - 32s 410ms/step - loss: 0.1380 - accuracy: 0.9477 - val_loss: 0.1125 - val_accuracy: 0.9533\n",
            "\n",
            "Epoch 00026: val_accuracy did not improve from 0.98000\n",
            "Epoch 27/100\n",
            "76/76 [==============================] - 32s 407ms/step - loss: 0.1934 - accuracy: 0.9226 - val_loss: 0.1467 - val_accuracy: 0.9500\n",
            "\n",
            "Epoch 00027: val_accuracy did not improve from 0.98000\n",
            "Epoch 28/100\n",
            "76/76 [==============================] - 32s 408ms/step - loss: 0.1079 - accuracy: 0.9515 - val_loss: 0.1030 - val_accuracy: 0.9633\n",
            "\n",
            "Epoch 00028: val_accuracy did not improve from 0.98000\n",
            "Epoch 29/100\n",
            "76/76 [==============================] - 31s 407ms/step - loss: 0.1155 - accuracy: 0.9637 - val_loss: 0.1538 - val_accuracy: 0.9233\n",
            "\n",
            "Epoch 00029: val_accuracy did not improve from 0.98000\n",
            "Epoch 30/100\n",
            "76/76 [==============================] - 32s 407ms/step - loss: 0.1250 - accuracy: 0.9459 - val_loss: 0.1099 - val_accuracy: 0.9600\n",
            "\n",
            "Epoch 00030: val_accuracy did not improve from 0.98000\n",
            "Epoch 31/100\n",
            "76/76 [==============================] - 32s 408ms/step - loss: 0.3323 - accuracy: 0.9601 - val_loss: 0.4381 - val_accuracy: 0.8700\n",
            "\n",
            "Epoch 00031: val_accuracy did not improve from 0.98000\n",
            "Epoch 32/100\n",
            "76/76 [==============================] - 31s 407ms/step - loss: 1.1622 - accuracy: 0.7033 - val_loss: 0.3939 - val_accuracy: 0.8767\n",
            "\n",
            "Epoch 00032: val_accuracy did not improve from 0.98000\n",
            "Epoch 33/100\n",
            "76/76 [==============================] - 31s 407ms/step - loss: 0.4905 - accuracy: 0.7813 - val_loss: 0.3887 - val_accuracy: 0.8267\n",
            "\n",
            "Epoch 00033: val_accuracy did not improve from 0.98000\n",
            "Epoch 34/100\n",
            "76/76 [==============================] - 31s 406ms/step - loss: 0.3854 - accuracy: 0.8295 - val_loss: 0.4465 - val_accuracy: 0.8533\n",
            "\n",
            "Epoch 00034: val_accuracy did not improve from 0.98000\n",
            "Epoch 35/100\n",
            "76/76 [==============================] - 31s 407ms/step - loss: 0.7873 - accuracy: 0.7540 - val_loss: 0.3797 - val_accuracy: 0.8333\n",
            "\n",
            "Epoch 00035: val_accuracy did not improve from 0.98000\n",
            "Epoch 36/100\n",
            "76/76 [==============================] - 31s 404ms/step - loss: 0.4994 - accuracy: 0.7733 - val_loss: 0.4019 - val_accuracy: 0.8500\n",
            "\n",
            "Epoch 00036: val_accuracy did not improve from 0.98000\n",
            "Epoch 37/100\n",
            "76/76 [==============================] - 31s 404ms/step - loss: 0.4838 - accuracy: 0.7543 - val_loss: 0.4560 - val_accuracy: 0.8267\n",
            "\n",
            "Epoch 00037: val_accuracy did not improve from 0.98000\n",
            "Epoch 38/100\n",
            "76/76 [==============================] - 31s 404ms/step - loss: 0.5107 - accuracy: 0.7360 - val_loss: 0.3433 - val_accuracy: 0.8767\n",
            "\n",
            "Epoch 00038: val_accuracy did not improve from 0.98000\n",
            "Epoch 39/100\n",
            "76/76 [==============================] - 31s 404ms/step - loss: 0.4703 - accuracy: 0.7905 - val_loss: 0.4128 - val_accuracy: 0.8367\n",
            "\n",
            "Epoch 00039: val_accuracy did not improve from 0.98000\n",
            "Epoch 40/100\n",
            "76/76 [==============================] - 31s 405ms/step - loss: 0.5016 - accuracy: 0.7392 - val_loss: 0.4222 - val_accuracy: 0.8367\n",
            "\n",
            "Epoch 00040: val_accuracy did not improve from 0.98000\n",
            "Epoch 41/100\n",
            "76/76 [==============================] - 31s 404ms/step - loss: 0.4561 - accuracy: 0.7795 - val_loss: 0.4549 - val_accuracy: 0.7800\n",
            "\n",
            "Epoch 00041: val_accuracy did not improve from 0.98000\n",
            "Epoch 42/100\n",
            "76/76 [==============================] - 31s 405ms/step - loss: 0.5115 - accuracy: 0.7333 - val_loss: 0.3962 - val_accuracy: 0.8333\n",
            "\n",
            "Epoch 00042: val_accuracy did not improve from 0.98000\n",
            "Epoch 43/100\n",
            "76/76 [==============================] - 31s 405ms/step - loss: 0.5326 - accuracy: 0.7422 - val_loss: 0.4238 - val_accuracy: 0.8367\n",
            "\n",
            "Epoch 00043: val_accuracy did not improve from 0.98000\n",
            "Epoch 44/100\n",
            "76/76 [==============================] - 31s 405ms/step - loss: 0.4971 - accuracy: 0.7605 - val_loss: 0.5636 - val_accuracy: 0.7033\n",
            "\n",
            "Epoch 00044: val_accuracy did not improve from 0.98000\n",
            "Epoch 45/100\n",
            "76/76 [==============================] - 31s 404ms/step - loss: 0.6353 - accuracy: 0.6796 - val_loss: 0.4563 - val_accuracy: 0.7900\n",
            "\n",
            "Epoch 00045: val_accuracy did not improve from 0.98000\n",
            "Epoch 46/100\n",
            "76/76 [==============================] - 31s 404ms/step - loss: 0.6632 - accuracy: 0.6871 - val_loss: 0.5616 - val_accuracy: 0.6867\n",
            "\n",
            "Epoch 00046: val_accuracy did not improve from 0.98000\n",
            "Epoch 47/100\n",
            "76/76 [==============================] - 31s 407ms/step - loss: 0.7016 - accuracy: 0.6102 - val_loss: 0.4982 - val_accuracy: 0.8200\n",
            "\n",
            "Epoch 00047: val_accuracy did not improve from 0.98000\n",
            "Epoch 48/100\n",
            "76/76 [==============================] - 31s 404ms/step - loss: 0.9068 - accuracy: 0.5785 - val_loss: 0.6201 - val_accuracy: 0.6367\n",
            "\n",
            "Epoch 00048: val_accuracy did not improve from 0.98000\n",
            "Epoch 49/100\n",
            "76/76 [==============================] - 32s 410ms/step - loss: 0.7268 - accuracy: 0.5815 - val_loss: 0.4700 - val_accuracy: 0.8267\n",
            "\n",
            "Epoch 00049: val_accuracy did not improve from 0.98000\n",
            "Epoch 50/100\n",
            "76/76 [==============================] - 32s 407ms/step - loss: 1.0596 - accuracy: 0.7004 - val_loss: 0.5842 - val_accuracy: 0.6733\n",
            "\n",
            "Epoch 00050: val_accuracy did not improve from 0.98000\n",
            "Epoch 51/100\n",
            "76/76 [==============================] - 31s 401ms/step - loss: 0.6359 - accuracy: 0.6157 - val_loss: 0.6922 - val_accuracy: 0.5267\n",
            "\n",
            "Epoch 00051: val_accuracy did not improve from 0.98000\n",
            "Epoch 52/100\n",
            "76/76 [==============================] - 31s 404ms/step - loss: 0.7200 - accuracy: 0.5140 - val_loss: 0.6916 - val_accuracy: 0.5300\n",
            "\n",
            "Epoch 00052: val_accuracy did not improve from 0.98000\n",
            "Epoch 53/100\n",
            "76/76 [==============================] - 31s 405ms/step - loss: 0.7227 - accuracy: 0.4767 - val_loss: 0.6927 - val_accuracy: 0.5333\n",
            "\n",
            "Epoch 00053: val_accuracy did not improve from 0.98000\n",
            "Epoch 54/100\n",
            "76/76 [==============================] - 31s 406ms/step - loss: 0.6950 - accuracy: 0.5119 - val_loss: 0.6919 - val_accuracy: 0.5367\n",
            "\n",
            "Epoch 00054: val_accuracy did not improve from 0.98000\n",
            "Epoch 55/100\n",
            "76/76 [==============================] - 31s 404ms/step - loss: 0.6974 - accuracy: 0.5120 - val_loss: 0.6917 - val_accuracy: 0.5367\n",
            "\n",
            "Epoch 00055: val_accuracy did not improve from 0.98000\n",
            "Epoch 56/100\n",
            "76/76 [==============================] - 31s 405ms/step - loss: 0.6955 - accuracy: 0.5041 - val_loss: 0.6914 - val_accuracy: 0.5333\n",
            "\n",
            "Epoch 00056: val_accuracy did not improve from 0.98000\n",
            "Epoch 57/100\n",
            "76/76 [==============================] - 31s 404ms/step - loss: 0.6933 - accuracy: 0.5073 - val_loss: 0.6918 - val_accuracy: 0.5333\n",
            "\n",
            "Epoch 00057: val_accuracy did not improve from 0.98000\n",
            "Epoch 58/100\n",
            "76/76 [==============================] - 31s 405ms/step - loss: 0.6923 - accuracy: 0.5275 - val_loss: 0.6837 - val_accuracy: 0.4633\n",
            "\n",
            "Epoch 00058: val_accuracy did not improve from 0.98000\n",
            "Epoch 59/100\n",
            "76/76 [==============================] - 32s 407ms/step - loss: 0.5986 - accuracy: 0.5976 - val_loss: 0.4610 - val_accuracy: 0.8300\n",
            "\n",
            "Epoch 00059: val_accuracy did not improve from 0.98000\n",
            "Epoch 60/100\n",
            "76/76 [==============================] - 31s 405ms/step - loss: 0.6315 - accuracy: 0.6599 - val_loss: 0.6910 - val_accuracy: 0.5333\n",
            "\n",
            "Epoch 00060: val_accuracy did not improve from 0.98000\n",
            "Epoch 61/100\n",
            "76/76 [==============================] - 31s 403ms/step - loss: 0.6968 - accuracy: 0.5012 - val_loss: 0.6925 - val_accuracy: 0.5400\n",
            "\n",
            "Epoch 00061: val_accuracy did not improve from 0.98000\n",
            "Epoch 62/100\n",
            "76/76 [==============================] - 31s 405ms/step - loss: 0.6660 - accuracy: 0.5429 - val_loss: 0.6909 - val_accuracy: 0.5367\n",
            "\n",
            "Epoch 00062: val_accuracy did not improve from 0.98000\n",
            "Epoch 63/100\n",
            "76/76 [==============================] - 31s 404ms/step - loss: 0.6979 - accuracy: 0.4956 - val_loss: 0.6932 - val_accuracy: 0.4667\n",
            "\n",
            "Epoch 00063: val_accuracy did not improve from 0.98000\n",
            "Epoch 64/100\n",
            "76/76 [==============================] - 31s 403ms/step - loss: 0.6938 - accuracy: 0.4868 - val_loss: 0.6929 - val_accuracy: 0.4667\n",
            "\n",
            "Epoch 00064: val_accuracy did not improve from 0.98000\n",
            "Epoch 65/100\n",
            "76/76 [==============================] - 31s 406ms/step - loss: 0.6421 - accuracy: 0.5629 - val_loss: 0.5629 - val_accuracy: 0.8167\n",
            "\n",
            "Epoch 00065: val_accuracy did not improve from 0.98000\n",
            "Epoch 66/100\n",
            "76/76 [==============================] - 31s 404ms/step - loss: 0.7063 - accuracy: 0.6839 - val_loss: 0.5879 - val_accuracy: 0.7233\n",
            "\n",
            "Epoch 00066: val_accuracy did not improve from 0.98000\n",
            "Epoch 67/100\n",
            "76/76 [==============================] - 31s 405ms/step - loss: 0.6709 - accuracy: 0.5975 - val_loss: 0.6910 - val_accuracy: 0.5333\n",
            "\n",
            "Epoch 00067: val_accuracy did not improve from 0.98000\n",
            "Epoch 68/100\n",
            "76/76 [==============================] - 31s 404ms/step - loss: 0.6817 - accuracy: 0.5341 - val_loss: 0.4704 - val_accuracy: 0.8067\n",
            "\n",
            "Epoch 00068: val_accuracy did not improve from 0.98000\n",
            "Epoch 69/100\n",
            "76/76 [==============================] - 31s 405ms/step - loss: 0.6932 - accuracy: 0.6724 - val_loss: 0.7785 - val_accuracy: 0.5333\n",
            "\n",
            "Epoch 00069: val_accuracy did not improve from 0.98000\n",
            "Epoch 70/100\n",
            "76/76 [==============================] - 31s 405ms/step - loss: 0.7172 - accuracy: 0.4849 - val_loss: 0.6910 - val_accuracy: 0.5333\n",
            "\n",
            "Epoch 00070: val_accuracy did not improve from 0.98000\n",
            "Epoch 71/100\n",
            "76/76 [==============================] - 31s 405ms/step - loss: 0.6963 - accuracy: 0.5017 - val_loss: 0.6920 - val_accuracy: 0.5300\n",
            "\n",
            "Epoch 00071: val_accuracy did not improve from 0.98000\n",
            "Epoch 72/100\n",
            "76/76 [==============================] - 31s 405ms/step - loss: 0.6966 - accuracy: 0.4843 - val_loss: 0.6912 - val_accuracy: 0.5333\n",
            "\n",
            "Epoch 00072: val_accuracy did not improve from 0.98000\n",
            "Epoch 73/100\n",
            "76/76 [==============================] - 31s 405ms/step - loss: 0.6948 - accuracy: 0.4973 - val_loss: 0.6920 - val_accuracy: 0.5400\n",
            "\n",
            "Epoch 00073: val_accuracy did not improve from 0.98000\n",
            "Epoch 74/100\n",
            "76/76 [==============================] - 31s 405ms/step - loss: 0.6931 - accuracy: 0.4999 - val_loss: 0.6913 - val_accuracy: 0.5333\n",
            "\n",
            "Epoch 00074: val_accuracy did not improve from 0.98000\n",
            "Epoch 75/100\n",
            "76/76 [==============================] - 31s 406ms/step - loss: 0.6940 - accuracy: 0.5059 - val_loss: 0.6943 - val_accuracy: 0.4667\n",
            "\n",
            "Epoch 00075: val_accuracy did not improve from 0.98000\n",
            "Epoch 76/100\n",
            "76/76 [==============================] - 31s 405ms/step - loss: 0.6941 - accuracy: 0.4981 - val_loss: 0.6935 - val_accuracy: 0.4633\n",
            "\n",
            "Epoch 00076: val_accuracy did not improve from 0.98000\n",
            "Epoch 77/100\n",
            "76/76 [==============================] - 31s 404ms/step - loss: 0.6944 - accuracy: 0.4625 - val_loss: 0.6942 - val_accuracy: 0.4667\n",
            "\n",
            "Epoch 00077: val_accuracy did not improve from 0.98000\n",
            "Epoch 78/100\n",
            "76/76 [==============================] - 31s 403ms/step - loss: 0.6939 - accuracy: 0.4891 - val_loss: 0.6926 - val_accuracy: 0.5333\n",
            "\n",
            "Epoch 00078: val_accuracy did not improve from 0.98000\n",
            "Epoch 79/100\n",
            "76/76 [==============================] - 31s 407ms/step - loss: 0.6947 - accuracy: 0.5003 - val_loss: 0.6932 - val_accuracy: 0.4700\n",
            "\n",
            "Epoch 00079: val_accuracy did not improve from 0.98000\n",
            "Epoch 80/100\n",
            "76/76 [==============================] - 31s 405ms/step - loss: 0.6932 - accuracy: 0.5305 - val_loss: 0.6953 - val_accuracy: 0.4633\n",
            "\n",
            "Epoch 00080: val_accuracy did not improve from 0.98000\n",
            "Epoch 81/100\n",
            "76/76 [==============================] - 32s 409ms/step - loss: 0.6943 - accuracy: 0.4894 - val_loss: 0.6936 - val_accuracy: 0.4633\n",
            "\n",
            "Epoch 00081: val_accuracy did not improve from 0.98000\n",
            "Epoch 82/100\n",
            "76/76 [==============================] - 32s 408ms/step - loss: 0.7145 - accuracy: 0.5031 - val_loss: 0.7051 - val_accuracy: 0.4633\n",
            "\n",
            "Epoch 00082: val_accuracy did not improve from 0.98000\n",
            "Epoch 83/100\n",
            "76/76 [==============================] - 32s 407ms/step - loss: 0.7125 - accuracy: 0.5010 - val_loss: 0.6907 - val_accuracy: 0.5367\n",
            "\n",
            "Epoch 00083: val_accuracy did not improve from 0.98000\n",
            "Epoch 84/100\n",
            "76/76 [==============================] - 31s 407ms/step - loss: 0.6940 - accuracy: 0.5114 - val_loss: 0.6922 - val_accuracy: 0.5333\n",
            "\n",
            "Epoch 00084: val_accuracy did not improve from 0.98000\n",
            "Epoch 85/100\n",
            "76/76 [==============================] - 32s 408ms/step - loss: 0.6945 - accuracy: 0.4909 - val_loss: 0.6921 - val_accuracy: 0.5333\n",
            "\n",
            "Epoch 00085: val_accuracy did not improve from 0.98000\n",
            "Epoch 86/100\n",
            "76/76 [==============================] - 32s 410ms/step - loss: 0.6930 - accuracy: 0.5117 - val_loss: 0.6935 - val_accuracy: 0.4667\n",
            "\n",
            "Epoch 00086: val_accuracy did not improve from 0.98000\n",
            "Epoch 87/100\n",
            "76/76 [==============================] - 31s 406ms/step - loss: 0.6938 - accuracy: 0.4957 - val_loss: 0.6932 - val_accuracy: 0.4700\n",
            "\n",
            "Epoch 00087: val_accuracy did not improve from 0.98000\n",
            "Epoch 88/100\n",
            "76/76 [==============================] - 31s 406ms/step - loss: 0.6936 - accuracy: 0.4983 - val_loss: 0.6960 - val_accuracy: 0.4633\n",
            "\n",
            "Epoch 00088: val_accuracy did not improve from 0.98000\n",
            "Epoch 89/100\n",
            "76/76 [==============================] - 32s 409ms/step - loss: 0.6938 - accuracy: 0.4889 - val_loss: 0.6964 - val_accuracy: 0.4700\n",
            "\n",
            "Epoch 00089: val_accuracy did not improve from 0.98000\n",
            "Epoch 90/100\n",
            "76/76 [==============================] - 32s 407ms/step - loss: 0.6943 - accuracy: 0.4860 - val_loss: 0.6951 - val_accuracy: 0.4633\n",
            "\n",
            "Epoch 00090: val_accuracy did not improve from 0.98000\n",
            "Epoch 91/100\n",
            "76/76 [==============================] - 31s 406ms/step - loss: 0.6941 - accuracy: 0.4853 - val_loss: 0.6945 - val_accuracy: 0.4700\n",
            "\n",
            "Epoch 00091: val_accuracy did not improve from 0.98000\n",
            "Epoch 92/100\n",
            "76/76 [==============================] - 31s 404ms/step - loss: 0.6936 - accuracy: 0.4970 - val_loss: 0.6944 - val_accuracy: 0.4633\n",
            "\n",
            "Epoch 00092: val_accuracy did not improve from 0.98000\n",
            "Epoch 93/100\n",
            "76/76 [==============================] - 31s 404ms/step - loss: 0.6938 - accuracy: 0.4888 - val_loss: 0.6947 - val_accuracy: 0.4667\n",
            "\n",
            "Epoch 00093: val_accuracy did not improve from 0.98000\n",
            "Epoch 94/100\n",
            "76/76 [==============================] - 31s 405ms/step - loss: 0.6932 - accuracy: 0.4970 - val_loss: 0.6947 - val_accuracy: 0.4667\n",
            "\n",
            "Epoch 00094: val_accuracy did not improve from 0.98000\n",
            "Epoch 95/100\n",
            "76/76 [==============================] - 31s 407ms/step - loss: 0.6933 - accuracy: 0.4949 - val_loss: 0.6947 - val_accuracy: 0.4667\n",
            "\n",
            "Epoch 00095: val_accuracy did not improve from 0.98000\n",
            "Epoch 96/100\n",
            "76/76 [==============================] - 31s 405ms/step - loss: 0.6938 - accuracy: 0.4931 - val_loss: 0.6948 - val_accuracy: 0.4633\n",
            "\n",
            "Epoch 00096: val_accuracy did not improve from 0.98000\n",
            "Epoch 97/100\n",
            "76/76 [==============================] - 31s 405ms/step - loss: 0.6937 - accuracy: 0.4917 - val_loss: 0.6945 - val_accuracy: 0.4700\n",
            "\n",
            "Epoch 00097: val_accuracy did not improve from 0.98000\n",
            "Epoch 98/100\n",
            "76/76 [==============================] - 31s 406ms/step - loss: 0.6931 - accuracy: 0.5188 - val_loss: 0.6948 - val_accuracy: 0.4633\n",
            "\n",
            "Epoch 00098: val_accuracy did not improve from 0.98000\n",
            "Epoch 99/100\n",
            "76/76 [==============================] - 32s 409ms/step - loss: 0.6935 - accuracy: 0.4886 - val_loss: 0.6947 - val_accuracy: 0.4700\n",
            "\n",
            "Epoch 00099: val_accuracy did not improve from 0.98000\n",
            "Epoch 100/100\n",
            "76/76 [==============================] - 32s 410ms/step - loss: 0.6935 - accuracy: 0.5061 - val_loss: 0.6944 - val_accuracy: 0.4700\n",
            "\n",
            "Epoch 00100: val_accuracy did not improve from 0.98000\n"
          ],
          "name": "stdout"
        }
      ]
    },
    {
      "cell_type": "code",
      "metadata": {
        "id": "expressed-orchestra",
        "colab": {
          "base_uri": "https://localhost:8080/",
          "height": 295
        },
        "outputId": "acb22463-2cab-4c69-c051-b8f6f70f1068"
      },
      "source": [
        "import matplotlib.pyplot as plt\n",
        "plt.plot(hist.history[\"accuracy\"])\n",
        "plt.plot(hist.history['val_accuracy'])\n",
        "plt.plot(hist.history['loss'])\n",
        "plt.plot(hist.history['val_loss'])\n",
        "plt.title(\"model accuracy\")\n",
        "plt.ylabel(\"Accuracy\")\n",
        "plt.xlabel(\"Epoch\")\n",
        "plt.legend([\"Accuracy\",\"Validation Accuracy\",\"loss\",\"Validation Loss\"])\n",
        "plt.show()"
      ],
      "id": "expressed-orchestra",
      "execution_count": 10,
      "outputs": [
        {
          "output_type": "display_data",
          "data": {
            "image/png": "[encoded data removed]",
            "text/plain": [
              "<Figure size 432x288 with 1 Axes>"
            ]
          },
          "metadata": {
            "tags": [],
            "needs_background": "light"
          }
        }
      ]
    },
    {
      "cell_type": "code",
      "metadata": {
        "id": "PeaDomBSomb5",
        "colab": {
          "base_uri": "https://localhost:8080/",
          "height": 324
        },
        "outputId": "72573acf-1848-4612-dcf9-7e3f5047f18d"
      },
      "source": [
        "model=tf.keras.models.load_model(\"vgg16_1.h5\") \n",
        "#tf.keras.models.save_model(model,'/gdrive/MyDrive/models',overwrite=False,include_optimizer=True)\n",
        "img=tf.keras.preprocessing.image.load_img(\"/gdrive/MyDrive/images/16745_6_2.png\", target_size=(224,224))\n",
        "img=np.asarray(img)\n",
        "plt.imshow(img)\n",
        "img=np.expand_dims(img,axis=0)\n",
        "output=model.predict(img)\n",
        "if output<0.5:\n",
        "  print(\"Covid19\")\n",
        "else: \n",
        "  print(\"Non Covid19\")"
      ],
      "id": "PeaDomBSomb5",
      "execution_count": 20,
      "outputs": [
        {
          "output_type": "stream",
          "text": [
            "WARNING:tensorflow:9 out of the last 9 calls to <function Model.make_predict_function.<locals>.predict_function at 0x7fafec2317a0> triggered tf.function retracing. Tracing is expensive and the excessive number of tracings could be due to (1) creating @tf.function repeatedly in a loop, (2) passing tensors with different shapes, (3) passing Python objects instead of tensors. For (1), please define your @tf.function outside of the loop. For (2), @tf.function has experimental_relax_shapes=True option that relaxes argument shapes that can avoid unnecessary retracing. For (3), please refer to https://www.tensorflow.org/guide/function#controlling_retracing and https://www.tensorflow.org/api_docs/python/tf/function for  more details.\n",
            "Covid19\n"
          ],
          "name": "stdout"
        },
        {
          "output_type": "display_data",
          "data": {
            "image/png": "[encoded data removed]",
            "text/plain": [
              "<Figure size 432x288 with 1 Axes>"
            ]
          },
          "metadata": {
            "tags": [],
            "needs_background": "light"
          }
        }
      ]
    },
    {
      "cell_type": "code",
      "metadata": {
        "id": "-dkPmDYPQ_TD"
      },
      "source": [
        ""
      ],
      "id": "-dkPmDYPQ_TD",
      "execution_count": null,
      "outputs": []
    }
  ]
}