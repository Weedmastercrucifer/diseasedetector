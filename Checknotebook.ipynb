{
  "nbformat": 4,
  "nbformat_minor": 5,
  "metadata": {
    "accelerator": "GPU",
    "colab": {
      "name": "Checknotebook.ipynb",
      "provenance": [],
      "collapsed_sections": [],
      "include_colab_link": true
    },
    "kernelspec": {
      "display_name": "Python 3",
      "language": "python",
      "name": "python3"
    },
    "language_info": {
      "codemirror_mode": {
        "name": "ipython",
        "version": 3
      },
      "file_extension": ".py",
      "mimetype": "text/x-python",
      "name": "python",
      "nbconvert_exporter": "python",
      "pygments_lexer": "ipython3",
      "version": "3.8.8"
    }
  },
  "cells": [
    {
      "cell_type": "markdown",
      "metadata": {
        "id": "view-in-github",
        "colab_type": "text"
      },
      "source": [
        "<a href=\"https://colab.research.google.com/github/Weedmastercrucifer/diseasedetector/blob/HEAD/Checknotebook.ipynb\" target=\"_parent\"><img src=\"https://colab.research.google.com/assets/colab-badge.svg\" alt=\"Open In Colab\"/></a>"
      ]
    },
    {
      "cell_type": "code",
      "metadata": {
        "colab": {
          "base_uri": "https://localhost:8080/"
        },
        "id": "systematic-delta",
        "outputId": "314221ab-a3b9-499a-edf0-f185c5c11745"
      },
      "source": [
        "import tensorflow as tf\n",
        "print(tf.__version__)"
      ],
      "id": "systematic-delta",
      "execution_count": null,
      "outputs": [
        {
          "output_type": "stream",
          "text": [
            "2.4.1\n"
          ],
          "name": "stdout"
        }
      ]
    },
    {
      "cell_type": "code",
      "metadata": {
        "colab": {
          "base_uri": "https://localhost:8080/"
        },
        "id": "VEoVnnkPZoKN",
        "outputId": "ecba9830-f18c-4041-ab18-d27bc5b1a974"
      },
      "source": [
        "from google.colab import drive\n",
        "drive.mount('/gdrive')"
      ],
      "id": "VEoVnnkPZoKN",
      "execution_count": null,
      "outputs": [
        {
          "output_type": "stream",
          "text": [
            "Mounted at /gdrive\n"
          ],
          "name": "stdout"
        }
      ]
    },
    {
      "cell_type": "markdown",
      "metadata": {
        "id": "HQRoE1uNbrS4"
      },
      "source": [
        "# New Section"
      ],
      "id": "HQRoE1uNbrS4"
    },
    {
      "cell_type": "code",
      "metadata": {
        "colab": {
          "base_uri": "https://localhost:8080/"
        },
        "id": "drawn-extreme",
        "outputId": "d50f1631-96d1-4e54-eae6-3976819ea093"
      },
      "source": [
        "#trdata=tf.keras.preprocessing.image.ImageGenerator()\n",
        "traindata=tf.keras.preprocessing.image_dataset_from_directory(directory=\"/gdrive/MyDrive/trainset\",image_size=(224,224))\n",
        "#tsdata=tf.keras.preprocessing.image.ImageGenerator()\n",
        "testdata=tf.keras.preprocessing.image_dataset_from_directory(directory=\"/gdrive/MyDrive/testset\",image_size=(224,224))\n"
      ],
      "id": "drawn-extreme",
      "execution_count": null,
      "outputs": [
        {
          "output_type": "stream",
          "text": [
            "Found 1520 files belonging to 2 classes.\n",
            "Found 304 files belonging to 2 classes.\n"
          ],
          "name": "stdout"
        }
      ]
    },
    {
      "cell_type": "code",
      "metadata": {
        "id": "chief-numbers"
      },
      "source": [
        "model=tf.keras.Sequential()\n",
        "model.add(tf.keras.layers.Conv2D(input_shape=(224,224,3),filters=64,kernel_size=(3,3),padding=\"same\", activation=\"relu\"))\n",
        "model.add(tf.keras.layers.Conv2D(filters=64,kernel_size=(3,3),padding=\"same\", activation=\"relu\"))\n",
        "model.add(tf.keras.layers.MaxPool2D(pool_size=(2,2),strides=(2,2)))\n",
        "model.add(tf.keras.layers.Conv2D(filters=128, kernel_size=(3,3), padding=\"same\", activation=\"relu\"))\n",
        "model.add(tf.keras.layers.Conv2D(filters=128, kernel_size=(3,3), padding=\"same\", activation=\"relu\"))\n",
        "model.add(tf.keras.layers.MaxPool2D(pool_size=(2,2),strides=(2,2)))\n",
        "model.add(tf.keras.layers.Conv2D(filters=256, kernel_size=(3,3), padding=\"same\", activation=\"relu\"))\n",
        "model.add(tf.keras.layers.Conv2D(filters=256, kernel_size=(3,3), padding=\"same\", activation=\"relu\"))\n",
        "model.add(tf.keras.layers.Conv2D(filters=256, kernel_size=(3,3), padding=\"same\", activation=\"relu\"))\n",
        "model.add(tf.keras.layers.MaxPool2D(pool_size=(2,2),strides=(2,2)))\n",
        "model.add(tf.keras.layers.Conv2D(filters=512, kernel_size=(3,3), padding=\"same\", activation=\"relu\"))\n",
        "model.add(tf.keras.layers.Conv2D(filters=512, kernel_size=(3,3), padding=\"same\", activation=\"relu\"))\n",
        "model.add(tf.keras.layers.Conv2D(filters=512, kernel_size=(3,3), padding=\"same\", activation=\"relu\"))\n",
        "model.add(tf.keras.layers.MaxPool2D(pool_size=(2,2),strides=(2,2)))\n",
        "model.add(tf.keras.layers.Conv2D(filters=512, kernel_size=(3,3), padding=\"same\", activation=\"relu\"))\n",
        "model.add(tf.keras.layers.Conv2D(filters=512, kernel_size=(3,3), padding=\"same\", activation=\"relu\"))\n",
        "model.add(tf.keras.layers.Conv2D(filters=512, kernel_size=(3,3), padding=\"same\", activation=\"relu\"))\n",
        "model.add(tf.keras.layers.MaxPool2D(pool_size=(2,2),strides=(2,2))) \n"
      ],
      "id": "chief-numbers",
      "execution_count": null,
      "outputs": []
    },
    {
      "cell_type": "code",
      "metadata": {
        "id": "usual-plastic"
      },
      "source": [
        "model.add(tf.keras.layers.Flatten())\n",
        "model.add(tf.keras.layers.Dense(units=4096,activation=\"relu\")) \n",
        "model.add(tf.keras.layers.Dropout(0.2))\n",
        "model.add(tf.keras.layers.Dense(units=4096,activation=\"relu\")) \n",
        "model.add(tf.keras.layers.Dropout(0.1))\n",
        "model.add(tf.keras.layers.Dense(units=1, activation=\"sigmoid\"))"
      ],
      "id": "usual-plastic",
      "execution_count": null,
      "outputs": []
    },
    {
      "cell_type": "code",
      "metadata": {
        "id": "possible-couple"
      },
      "source": [
        "opt=tf.keras.optimizers.Adam(learning_rate=0.001)\n",
        "model.compile(optimizer=opt,loss=tf.keras.losses.binary_crossentropy,metrics=['accuracy'])"
      ],
      "id": "possible-couple",
      "execution_count": null,
      "outputs": []
    },
    {
      "cell_type": "code",
      "metadata": {
        "colab": {
          "base_uri": "https://localhost:8080/"
        },
        "id": "illegal-twins",
        "outputId": "14cc0c84-593f-4a6c-9367-231937e8a9ed"
      },
      "source": [
        "model.summary()\n"
      ],
      "id": "illegal-twins",
      "execution_count": null,
      "outputs": [
        {
          "output_type": "stream",
          "text": [
            "Model: \"sequential\"\n",
            "_________________________________________________________________\n",
            "Layer (type)                 Output Shape              Param #   \n",
            "=================================================================\n",
            "conv2d (Conv2D)              (None, 224, 224, 64)      1792      \n",
            "_________________________________________________________________\n",
            "conv2d_1 (Conv2D)            (None, 224, 224, 64)      36928     \n",
            "_________________________________________________________________\n",
            "max_pooling2d (MaxPooling2D) (None, 112, 112, 64)      0         \n",
            "_________________________________________________________________\n",
            "conv2d_2 (Conv2D)            (None, 112, 112, 128)     73856     \n",
            "_________________________________________________________________\n",
            "conv2d_3 (Conv2D)            (None, 112, 112, 128)     147584    \n",
            "_________________________________________________________________\n",
            "max_pooling2d_1 (MaxPooling2 (None, 56, 56, 128)       0         \n",
            "_________________________________________________________________\n",
            "conv2d_4 (Conv2D)            (None, 56, 56, 256)       295168    \n",
            "_________________________________________________________________\n",
            "conv2d_5 (Conv2D)            (None, 56, 56, 256)       590080    \n",
            "_________________________________________________________________\n",
            "conv2d_6 (Conv2D)            (None, 56, 56, 256)       590080    \n",
            "_________________________________________________________________\n",
            "max_pooling2d_2 (MaxPooling2 (None, 28, 28, 256)       0         \n",
            "_________________________________________________________________\n",
            "conv2d_7 (Conv2D)            (None, 28, 28, 512)       1180160   \n",
            "_________________________________________________________________\n",
            "conv2d_8 (Conv2D)            (None, 28, 28, 512)       2359808   \n",
            "_________________________________________________________________\n",
            "conv2d_9 (Conv2D)            (None, 28, 28, 512)       2359808   \n",
            "_________________________________________________________________\n",
            "max_pooling2d_3 (MaxPooling2 (None, 14, 14, 512)       0         \n",
            "_________________________________________________________________\n",
            "conv2d_10 (Conv2D)           (None, 14, 14, 512)       2359808   \n",
            "_________________________________________________________________\n",
            "conv2d_11 (Conv2D)           (None, 14, 14, 512)       2359808   \n",
            "_________________________________________________________________\n",
            "conv2d_12 (Conv2D)           (None, 14, 14, 512)       2359808   \n",
            "_________________________________________________________________\n",
            "max_pooling2d_4 (MaxPooling2 (None, 7, 7, 512)         0         \n",
            "_________________________________________________________________\n",
            "flatten (Flatten)            (None, 25088)             0         \n",
            "_________________________________________________________________\n",
            "dense (Dense)                (None, 4096)              102764544 \n",
            "_________________________________________________________________\n",
            "dropout (Dropout)            (None, 4096)              0         \n",
            "_________________________________________________________________\n",
            "dense_1 (Dense)              (None, 4096)              16781312  \n",
            "_________________________________________________________________\n",
            "dropout_1 (Dropout)          (None, 4096)              0         \n",
            "_________________________________________________________________\n",
            "dense_2 (Dense)              (None, 1)                 4097      \n",
            "=================================================================\n",
            "Total params: 134,264,641\n",
            "Trainable params: 134,264,641\n",
            "Non-trainable params: 0\n",
            "_________________________________________________________________\n"
          ],
          "name": "stdout"
        }
      ]
    },
    {
      "cell_type": "code",
      "metadata": {
        "colab": {
          "base_uri": "https://localhost:8080/"
        },
        "id": "prepared-number",
        "outputId": "8abc78d7-dbe1-4555-e5f5-ebb80daa9bd0"
      },
      "source": [
        "checkpoint = tf.keras.callbacks.ModelCheckpoint(\"vgg16_1.h5\", monitor='val_accuracy', verbose=1, save_best_only=True, save_weights_only=False, mode='auto', save_freq=1)\n",
        "early = tf.keras.callbacks.EarlyStopping(monitor='val_accuracy', min_delta=0, patience=20, verbose=1, mode='auto')\n",
        "hist = model.fit(traindata,steps_per_epoch=4, validation_data= testdata, validation_steps=10,epochs=9,callbacks=[checkpoint,early])"
      ],
      "id": "prepared-number",
      "execution_count": null,
      "outputs": [
        {
          "output_type": "stream",
          "text": [
            "Epoch 1/9\n",
            "1/4 [======>.......................] - ETA: 3s - loss: 0.2366 - accuracy: 0.9062WARNING:tensorflow:Can save best model only with val_accuracy available, skipping.\n",
            "2/4 [==============>...............] - ETA: 0s - loss: 0.4005 - accuracy: 0.8594WARNING:tensorflow:Can save best model only with val_accuracy available, skipping.\n",
            "3/4 [=====================>........] - ETA: 0s - loss: 0.2732 - accuracy: 0.9062WARNING:tensorflow:Can save best model only with val_accuracy available, skipping.\n",
            "4/4 [==============================] - ETA: 0s - loss: 0.2453 - accuracy: 0.9062WARNING:tensorflow:Can save best model only with val_accuracy available, skipping.\n",
            "4/4 [==============================] - 4s 924ms/step - loss: 0.2453 - accuracy: 0.9062 - val_loss: 0.2540 - val_accuracy: 0.9342\n",
            "Epoch 2/9\n",
            "1/4 [======>.......................] - ETA: 0s - loss: 0.4365 - accuracy: 0.9688WARNING:tensorflow:Can save best model only with val_accuracy available, skipping.\n",
            "2/4 [==============>...............] - ETA: 0s - loss: 0.2646 - accuracy: 0.9531WARNING:tensorflow:Can save best model only with val_accuracy available, skipping.\n",
            "3/4 [=====================>........] - ETA: 0s - loss: 0.3502 - accuracy: 0.9271WARNING:tensorflow:Can save best model only with val_accuracy available, skipping.\n",
            "4/4 [==============================] - ETA: 0s - loss: 0.2948 - accuracy: 0.9375WARNING:tensorflow:Can save best model only with val_accuracy available, skipping.\n",
            "4/4 [==============================] - 3s 929ms/step - loss: 0.2948 - accuracy: 0.9375 - val_loss: 0.1576 - val_accuracy: 0.9375\n",
            "Epoch 3/9\n",
            "1/4 [======>.......................] - ETA: 0s - loss: 0.2151 - accuracy: 0.9375WARNING:tensorflow:Can save best model only with val_accuracy available, skipping.\n",
            "2/4 [==============>...............] - ETA: 0s - loss: 0.1556 - accuracy: 0.9531WARNING:tensorflow:Can save best model only with val_accuracy available, skipping.\n",
            "3/4 [=====================>........] - ETA: 0s - loss: 0.2279 - accuracy: 0.9271WARNING:tensorflow:Can save best model only with val_accuracy available, skipping.\n",
            "4/4 [==============================] - ETA: 0s - loss: 0.2629 - accuracy: 0.8984WARNING:tensorflow:Can save best model only with val_accuracy available, skipping.\n",
            "4/4 [==============================] - 3s 917ms/step - loss: 0.2629 - accuracy: 0.8984 - val_loss: 0.1623 - val_accuracy: 0.9507\n",
            "Epoch 4/9\n",
            "1/4 [======>.......................] - ETA: 0s - loss: 0.1890 - accuracy: 0.8750WARNING:tensorflow:Can save best model only with val_accuracy available, skipping.\n",
            "2/4 [==============>...............] - ETA: 0s - loss: 0.1895 - accuracy: 0.9062WARNING:tensorflow:Can save best model only with val_accuracy available, skipping.\n",
            "3/4 [=====================>........] - ETA: 0s - loss: 0.1961 - accuracy: 0.9167WARNING:tensorflow:Can save best model only with val_accuracy available, skipping.\n",
            "4/4 [==============================] - ETA: 0s - loss: 0.1832 - accuracy: 0.9375WARNING:tensorflow:Can save best model only with val_accuracy available, skipping.\n",
            "4/4 [==============================] - 3s 951ms/step - loss: 0.1832 - accuracy: 0.9375 - val_loss: 0.1602 - val_accuracy: 0.9474\n",
            "Epoch 5/9\n",
            "1/4 [======>.......................] - ETA: 0s - loss: 0.1832 - accuracy: 0.9375WARNING:tensorflow:Can save best model only with val_accuracy available, skipping.\n",
            "2/4 [==============>...............] - ETA: 0s - loss: 0.1925 - accuracy: 0.9531WARNING:tensorflow:Can save best model only with val_accuracy available, skipping.\n",
            "3/4 [=====================>........] - ETA: 0s - loss: 0.1692 - accuracy: 0.9479WARNING:tensorflow:Can save best model only with val_accuracy available, skipping.\n",
            "4/4 [==============================] - ETA: 0s - loss: 0.1522 - accuracy: 0.9531WARNING:tensorflow:Can save best model only with val_accuracy available, skipping.\n",
            "4/4 [==============================] - 3s 925ms/step - loss: 0.1522 - accuracy: 0.9531 - val_loss: 0.1326 - val_accuracy: 0.9441\n",
            "Epoch 6/9\n",
            "1/4 [======>.......................] - ETA: 1s - loss: 0.4574 - accuracy: 0.8438WARNING:tensorflow:Can save best model only with val_accuracy available, skipping.\n",
            "2/4 [==============>...............] - ETA: 0s - loss: 0.2587 - accuracy: 0.9219WARNING:tensorflow:Can save best model only with val_accuracy available, skipping.\n",
            "3/4 [=====================>........] - ETA: 0s - loss: 0.2395 - accuracy: 0.8958WARNING:tensorflow:Can save best model only with val_accuracy available, skipping.\n",
            "4/4 [==============================] - ETA: 0s - loss: 0.2218 - accuracy: 0.8984WARNING:tensorflow:Can save best model only with val_accuracy available, skipping.\n",
            "4/4 [==============================] - 3s 924ms/step - loss: 0.2218 - accuracy: 0.8984 - val_loss: 0.2758 - val_accuracy: 0.8980\n",
            "Epoch 7/9\n",
            "1/4 [======>.......................] - ETA: 1s - loss: 0.1664 - accuracy: 0.9062WARNING:tensorflow:Can save best model only with val_accuracy available, skipping.\n",
            "2/4 [==============>...............] - ETA: 0s - loss: 0.1014 - accuracy: 0.9375WARNING:tensorflow:Can save best model only with val_accuracy available, skipping.\n",
            "3/4 [=====================>........] - ETA: 0s - loss: 0.1660 - accuracy: 0.9062WARNING:tensorflow:Can save best model only with val_accuracy available, skipping.\n",
            "4/4 [==============================] - ETA: 0s - loss: 0.1529 - accuracy: 0.9141WARNING:tensorflow:Can save best model only with val_accuracy available, skipping.\n",
            "4/4 [==============================] - 3s 931ms/step - loss: 0.1529 - accuracy: 0.9141 - val_loss: 0.1258 - val_accuracy: 0.9408\n",
            "Epoch 8/9\n",
            "1/4 [======>.......................] - ETA: 0s - loss: 0.2031 - accuracy: 0.9062WARNING:tensorflow:Can save best model only with val_accuracy available, skipping.\n",
            "2/4 [==============>...............] - ETA: 0s - loss: 0.1668 - accuracy: 0.9219WARNING:tensorflow:Can save best model only with val_accuracy available, skipping.\n",
            "3/4 [=====================>........] - ETA: 0s - loss: 0.2008 - accuracy: 0.8854WARNING:tensorflow:Can save best model only with val_accuracy available, skipping.\n",
            "4/4 [==============================] - ETA: 0s - loss: 0.2386 - accuracy: 0.8750WARNING:tensorflow:Can save best model only with val_accuracy available, skipping.\n",
            "4/4 [==============================] - 3s 914ms/step - loss: 0.2386 - accuracy: 0.8750 - val_loss: 0.1140 - val_accuracy: 0.9605\n",
            "Epoch 9/9\n",
            "1/4 [======>.......................] - ETA: 1s - loss: 0.0808 - accuracy: 1.0000WARNING:tensorflow:Can save best model only with val_accuracy available, skipping.\n",
            "2/4 [==============>...............] - ETA: 0s - loss: 0.0976 - accuracy: 0.9688WARNING:tensorflow:Can save best model only with val_accuracy available, skipping.\n",
            "3/4 [=====================>........] - ETA: 0s - loss: 0.1768 - accuracy: 0.9479WARNING:tensorflow:Can save best model only with val_accuracy available, skipping.\n",
            "4/4 [==============================] - ETA: 0s - loss: 0.1804 - accuracy: 0.9375WARNING:tensorflow:Can save best model only with val_accuracy available, skipping.\n",
            "4/4 [==============================] - 3s 916ms/step - loss: 0.1804 - accuracy: 0.9375 - val_loss: 0.1307 - val_accuracy: 0.9375\n"
          ],
          "name": "stdout"
        }
      ]
    },
    {
      "cell_type": "code",
      "metadata": {
        "id": "expressed-orchestra"
      },
      "source": [
        "tf.keras.models.save_model(model,\"vgg16_1.h5\",include_optimizer=True)"
      ],
      "id": "expressed-orchestra",
      "execution_count": null,
      "outputs": []
    }
  ]
}