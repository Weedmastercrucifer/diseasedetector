{
  "nbformat": 4,
  "nbformat_minor": 0,
  "metadata": {
    "colab": {
      "name": "final.ipynb",
      "provenance": [],
      "authorship_tag": "ABX9TyPO734H75q4hOMNYcDbOwBW",
      "include_colab_link": true
    },
    "kernelspec": {
      "name": "python3",
      "display_name": "Python 3"
    },
    "language_info": {
      "name": "python"
    }
  },
  "cells": [
    {
      "cell_type": "markdown",
      "metadata": {
        "id": "view-in-github",
        "colab_type": "text"
      },
      "source": [
        "<a href=\"https://colab.research.google.com/github/Weedmastercrucifer/diseasedetector/blob/main/final.ipynb\" target=\"_parent\"><img src=\"https://colab.research.google.com/assets/colab-badge.svg\" alt=\"Open In Colab\"/></a>"
      ]
    },
    {
      "cell_type": "code",
      "metadata": {
        "colab": {
          "base_uri": "https://localhost:8080/"
        },
        "id": "zkWURTP_W5jN",
        "outputId": "01f1b4f9-b0fe-44a8-fc72-e99f0f79b424"
      },
      "source": [
        "import tensorflow as tf \n",
        "import numpy as np\n",
        "print(tf.__version__)"
      ],
      "execution_count": null,
      "outputs": [
        {
          "output_type": "stream",
          "text": [
            "2.4.1\n"
          ],
          "name": "stdout"
        }
      ]
    },
    {
      "cell_type": "code",
      "metadata": {
        "colab": {
          "base_uri": "https://localhost:8080/"
        },
        "id": "nrUJs-5VaZLE",
        "outputId": "e2adeb65-164b-4352-f404-2a7b07cb1486"
      },
      "source": [
        "from google.colab import drive\n",
        "drive.mount('/gdrive')"
      ],
      "execution_count": null,
      "outputs": [
        {
          "output_type": "stream",
          "text": [
            "Mounted at /gdrive\n"
          ],
          "name": "stdout"
        }
      ]
    },
    {
      "cell_type": "code",
      "metadata": {
        "colab": {
          "base_uri": "https://localhost:8080/"
        },
        "id": "ZDX0eZgfa1vG",
        "outputId": "809e6032-b813-44f1-db54-58300377e1af"
      },
      "source": [
        "new_model=tf.keras.models.load_model('/gdrive/MyDrive/vgg16_1.h5') \n",
        "new_model.summary()"
      ],
      "execution_count": null,
      "outputs": [
        {
          "output_type": "stream",
          "text": [
            "Model: \"sequential\"\n",
            "_________________________________________________________________\n",
            "Layer (type)                 Output Shape              Param #   \n",
            "=================================================================\n",
            "conv2d (Conv2D)              (None, 224, 224, 64)      1792      \n",
            "_________________________________________________________________\n",
            "conv2d_1 (Conv2D)            (None, 224, 224, 64)      36928     \n",
            "_________________________________________________________________\n",
            "max_pooling2d (MaxPooling2D) (None, 112, 112, 64)      0         \n",
            "_________________________________________________________________\n",
            "conv2d_2 (Conv2D)            (None, 112, 112, 128)     73856     \n",
            "_________________________________________________________________\n",
            "conv2d_3 (Conv2D)            (None, 112, 112, 128)     147584    \n",
            "_________________________________________________________________\n",
            "max_pooling2d_1 (MaxPooling2 (None, 56, 56, 128)       0         \n",
            "_________________________________________________________________\n",
            "conv2d_4 (Conv2D)            (None, 56, 56, 256)       295168    \n",
            "_________________________________________________________________\n",
            "conv2d_5 (Conv2D)            (None, 56, 56, 256)       590080    \n",
            "_________________________________________________________________\n",
            "conv2d_6 (Conv2D)            (None, 56, 56, 256)       590080    \n",
            "_________________________________________________________________\n",
            "max_pooling2d_2 (MaxPooling2 (None, 28, 28, 256)       0         \n",
            "_________________________________________________________________\n",
            "conv2d_7 (Conv2D)            (None, 28, 28, 512)       1180160   \n",
            "_________________________________________________________________\n",
            "conv2d_8 (Conv2D)            (None, 28, 28, 512)       2359808   \n",
            "_________________________________________________________________\n",
            "conv2d_9 (Conv2D)            (None, 28, 28, 512)       2359808   \n",
            "_________________________________________________________________\n",
            "max_pooling2d_3 (MaxPooling2 (None, 14, 14, 512)       0         \n",
            "_________________________________________________________________\n",
            "conv2d_10 (Conv2D)           (None, 14, 14, 512)       2359808   \n",
            "_________________________________________________________________\n",
            "conv2d_11 (Conv2D)           (None, 14, 14, 512)       2359808   \n",
            "_________________________________________________________________\n",
            "conv2d_12 (Conv2D)           (None, 14, 14, 512)       2359808   \n",
            "_________________________________________________________________\n",
            "max_pooling2d_4 (MaxPooling2 (None, 7, 7, 512)         0         \n",
            "_________________________________________________________________\n",
            "flatten (Flatten)            (None, 25088)             0         \n",
            "_________________________________________________________________\n",
            "dense (Dense)                (None, 4096)              102764544 \n",
            "_________________________________________________________________\n",
            "dropout (Dropout)            (None, 4096)              0         \n",
            "_________________________________________________________________\n",
            "dense_1 (Dense)              (None, 4096)              16781312  \n",
            "_________________________________________________________________\n",
            "dropout_1 (Dropout)          (None, 4096)              0         \n",
            "_________________________________________________________________\n",
            "dense_2 (Dense)              (None, 1)                 4097      \n",
            "=================================================================\n",
            "Total params: 134,264,641\n",
            "Trainable params: 134,264,641\n",
            "Non-trainable params: 0\n",
            "_________________________________________________________________\n"
          ],
          "name": "stdout"
        }
      ]
    },
    {
      "cell_type": "code",
      "metadata": {
        "id": "7-Mkys1Vbaq-"
      },
      "source": [
        "import matplotlib.pyplot as plt"
      ],
      "execution_count": null,
      "outputs": []
    },
    {
      "cell_type": "code",
      "metadata": {
        "id": "zK4zLxmDcQjY",
        "colab": {
          "base_uri": "https://localhost:8080/",
          "height": 373
        },
        "outputId": "7c5ab957-50ea-4520-f983-c49656130a48"
      },
      "source": [
        "img1=tf.keras.preprocessing.image.load_img(\"/gdrive/MyDrive/images/16745_6_2.png\", target_size=(224,224)) \n",
        "\n",
        "img1=np.asarray(img1)\n",
        "plt.imshow(img1)\n",
        "img1=np.expand_dims(img1,axis=0)\n",
        "output1=new_model.predict(img1)  \n",
        "if output1<0.5:\n",
        "  print(\"Covid19\")\n",
        "else: \n",
        "  print(\"Non Covid19\") \n",
        "img2=tf.keras.preprocessing.image.load_img(\"/gdrive/MyDrive/images/acute-respiratory-distress-syndrome-ards-1.jpg\", target_size=(224,224)) \n",
        "\n",
        "img2=np.asarray(img2)\n",
        "plt.imshow(img2)\n",
        "img2=np.expand_dims(img2,axis=0)\n",
        "output2=new_model.predict(img2)  \n",
        "if output2<0.5:\n",
        "  print(\"Covid19\")\n",
        "else: \n",
        "  print(\"Non Covid19\")\n",
        "img3=tf.keras.preprocessing.image.load_img(\"/gdrive/MyDrive/images/covid-19-pneumonia-101.png\", target_size=(224,224)) \n",
        "\n",
        "img3=np.asarray(img3)\n",
        "plt.imshow(img3)\n",
        "img3=np.expand_dims(img3,axis=0)\n",
        "output3=new_model.predict(img3)   \n",
        "if output3<0.5:\n",
        "  print(\"Covid19\")\n",
        "else: \n",
        "  print(\"Non Covid19\")\n",
        "img4=tf.keras.preprocessing.image.load_img(\"/gdrive/MyDrive/images/pneumocystis-pneumonia-1.jpg\", target_size=(224,224))\n",
        "plt.imshow(img4)\n",
        "img4=np.asarray(img4)\n",
        "plt.imshow(img4)\n",
        "img4=np.expand_dims(img4,axis=0)\n",
        "output4=new_model.predict(img4)   \n",
        "if output4<0.5:\n",
        "  print(\"Covid19\")\n",
        "else: \n",
        "  print(\"Non Covid19\") \n",
        "img5=tf.keras.preprocessing.image.load_img(\"/gdrive/MyDrive/images/SARS-10.1148rg.242035193-g04mr34g07a-Fig7a-day5.jpeg\", target_size=(224,224))\n",
        "\n",
        "img5=np.asarray(img5)\n",
        "plt.imshow(img5)\n",
        "img5=np.expand_dims(img5,axis=0) \n",
        "output5=new_model.predict(img5)  \n",
        "if output5<0.5:\n",
        "  print(\"Covid19\")\n",
        "else: \n",
        "  print(\"Non Covid19\")\n",
        "img6=tf.keras.preprocessing.image.load_img(\"/gdrive/MyDrive/images/000002-29.jpg\", target_size=(224,224))\n",
        "img6=np.asarray(img6)\n",
        "plt.imshow(img6)\n",
        "img6=np.expand_dims(img6,axis=0) \n",
        "output6=new_model.predict(img6)\n",
        "\n",
        "\n",
        "\n",
        "\n",
        " \n",
        "if output6<0.5:\n",
        "  print(\"Covid19\")\n",
        "else: \n",
        "  print(\"Non Covid19\") \n",
        "\n",
        "\n",
        "\n",
        "\n",
        "\n"
      ],
      "execution_count": null,
      "outputs": [
        {
          "output_type": "stream",
          "text": [
            "Covid19\n",
            "Non Covid19\n",
            "Covid19\n",
            "Covid19\n",
            "Covid19\n",
            "Non Covid19\n"
          ],
          "name": "stdout"
        },
        {
          "output_type": "display_data",
          "data": {
            "image/png": "[encoded data removed]",
            "text/plain": [
              "<Figure size 432x288 with 1 Axes>"
            ]
          },
          "metadata": {
            "tags": [],
            "needs_background": "light"
          }
        }
      ]
    },
    {
      "cell_type": "code",
      "metadata": {
        "id": "12ctG-pveMY8"
      },
      "source": [
        ""
      ],
      "execution_count": null,
      "outputs": []
    }
  ]
}